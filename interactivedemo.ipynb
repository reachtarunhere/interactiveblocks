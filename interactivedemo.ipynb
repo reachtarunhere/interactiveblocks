{
 "cells": [
  {
   "cell_type": "markdown",
   "metadata": {},
   "source": [
    "# Interactive Blocks\n",
    "interactiveblocks is basically ipythonblocks made interactive. This allows easy creation of interactive grid worlds which run in Ipython. Ofcourse much more can be done than creating maps in which our agents navigate. This is possible because a lot of other GUI interfaces can be modelled as the above. Lets get started!\n"
   ]
  },
  {
   "cell_type": "code",
   "execution_count": 1,
   "metadata": {
    "collapsed": true
   },
   "outputs": [],
   "source": [
    "from interactiveblocks import *"
   ]
  },
  {
   "cell_type": "markdown",
   "metadata": {},
   "source": [
    "Instead of using a grid class like ipythonblocks we use an Enviornment class so as to handle agents too. The parameters that can be passed remain the same. Instead of BlockGrid we use GridWorld class."
   ]
  },
  {
   "cell_type": "code",
   "execution_count": 2,
   "metadata": {
    "collapsed": false
   },
   "outputs": [
    {
     "data": {
      "text/html": [
       "<style type=\"text/css\">table.blockgrid {border: none;} .blockgrid tr {border: none;} .blockgrid td {padding: 0px;} #blocks7558c58d-ce10-41ad-a43c-9525d6beaa26 td {border: 1px solid white;}</style><table id=\"blocks7558c58d-ce10-41ad-a43c-9525d6beaa26\" class=\"blockgrid\"><tbody><tr><td title=\"Index: [0, 0]&#10;Color: (123, 234, 123)\" style=\"width: 25px; height: 25px;background-color: rgb(123, 234, 123);\" data-grid_name=\"my_grid\" data-coordinates=\"0,0\" onclick=\"click_block(this)\"></td><td title=\"Index: [0, 1]&#10;Color: (123, 234, 123)\" style=\"width: 25px; height: 25px;background-color: rgb(123, 234, 123);\" data-grid_name=\"my_grid\" data-coordinates=\"0,1\" onclick=\"click_block(this)\"></td><td title=\"Index: [0, 2]&#10;Color: (123, 234, 123)\" style=\"width: 25px; height: 25px;background-color: rgb(123, 234, 123);\" data-grid_name=\"my_grid\" data-coordinates=\"0,2\" onclick=\"click_block(this)\"></td><td title=\"Index: [0, 3]&#10;Color: (123, 234, 123)\" style=\"width: 25px; height: 25px;background-color: rgb(123, 234, 123);\" data-grid_name=\"my_grid\" data-coordinates=\"0,3\" onclick=\"click_block(this)\"></td><td title=\"Index: [0, 4]&#10;Color: (123, 234, 123)\" style=\"width: 25px; height: 25px;background-color: rgb(123, 234, 123);\" data-grid_name=\"my_grid\" data-coordinates=\"0,4\" onclick=\"click_block(this)\"></td><td title=\"Index: [0, 5]&#10;Color: (123, 234, 123)\" style=\"width: 25px; height: 25px;background-color: rgb(123, 234, 123);\" data-grid_name=\"my_grid\" data-coordinates=\"0,5\" onclick=\"click_block(this)\"></td><td title=\"Index: [0, 6]&#10;Color: (123, 234, 123)\" style=\"width: 25px; height: 25px;background-color: rgb(123, 234, 123);\" data-grid_name=\"my_grid\" data-coordinates=\"0,6\" onclick=\"click_block(this)\"></td><td title=\"Index: [0, 7]&#10;Color: (123, 234, 123)\" style=\"width: 25px; height: 25px;background-color: rgb(123, 234, 123);\" data-grid_name=\"my_grid\" data-coordinates=\"0,7\" onclick=\"click_block(this)\"></td><td title=\"Index: [0, 8]&#10;Color: (123, 234, 123)\" style=\"width: 25px; height: 25px;background-color: rgb(123, 234, 123);\" data-grid_name=\"my_grid\" data-coordinates=\"0,8\" onclick=\"click_block(this)\"></td><td title=\"Index: [0, 9]&#10;Color: (123, 234, 123)\" style=\"width: 25px; height: 25px;background-color: rgb(123, 234, 123);\" data-grid_name=\"my_grid\" data-coordinates=\"0,9\" onclick=\"click_block(this)\"></td></tr><tr><td title=\"Index: [1, 0]&#10;Color: (123, 234, 123)\" style=\"width: 25px; height: 25px;background-color: rgb(123, 234, 123);\" data-grid_name=\"my_grid\" data-coordinates=\"1,0\" onclick=\"click_block(this)\"></td><td title=\"Index: [1, 1]&#10;Color: (123, 234, 123)\" style=\"width: 25px; height: 25px;background-color: rgb(123, 234, 123);\" data-grid_name=\"my_grid\" data-coordinates=\"1,1\" onclick=\"click_block(this)\"></td><td title=\"Index: [1, 2]&#10;Color: (123, 234, 123)\" style=\"width: 25px; height: 25px;background-color: rgb(123, 234, 123);\" data-grid_name=\"my_grid\" data-coordinates=\"1,2\" onclick=\"click_block(this)\"></td><td title=\"Index: [1, 3]&#10;Color: (123, 234, 123)\" style=\"width: 25px; height: 25px;background-color: rgb(123, 234, 123);\" data-grid_name=\"my_grid\" data-coordinates=\"1,3\" onclick=\"click_block(this)\"></td><td title=\"Index: [1, 4]&#10;Color: (123, 234, 123)\" style=\"width: 25px; height: 25px;background-color: rgb(123, 234, 123);\" data-grid_name=\"my_grid\" data-coordinates=\"1,4\" onclick=\"click_block(this)\"></td><td title=\"Index: [1, 5]&#10;Color: (123, 234, 123)\" style=\"width: 25px; height: 25px;background-color: rgb(123, 234, 123);\" data-grid_name=\"my_grid\" data-coordinates=\"1,5\" onclick=\"click_block(this)\"></td><td title=\"Index: [1, 6]&#10;Color: (123, 234, 123)\" style=\"width: 25px; height: 25px;background-color: rgb(123, 234, 123);\" data-grid_name=\"my_grid\" data-coordinates=\"1,6\" onclick=\"click_block(this)\"></td><td title=\"Index: [1, 7]&#10;Color: (123, 234, 123)\" style=\"width: 25px; height: 25px;background-color: rgb(123, 234, 123);\" data-grid_name=\"my_grid\" data-coordinates=\"1,7\" onclick=\"click_block(this)\"></td><td title=\"Index: [1, 8]&#10;Color: (123, 234, 123)\" style=\"width: 25px; height: 25px;background-color: rgb(123, 234, 123);\" data-grid_name=\"my_grid\" data-coordinates=\"1,8\" onclick=\"click_block(this)\"></td><td title=\"Index: [1, 9]&#10;Color: (123, 234, 123)\" style=\"width: 25px; height: 25px;background-color: rgb(123, 234, 123);\" data-grid_name=\"my_grid\" data-coordinates=\"1,9\" onclick=\"click_block(this)\"></td></tr><tr><td title=\"Index: [2, 0]&#10;Color: (123, 234, 123)\" style=\"width: 25px; height: 25px;background-color: rgb(123, 234, 123);\" data-grid_name=\"my_grid\" data-coordinates=\"2,0\" onclick=\"click_block(this)\"></td><td title=\"Index: [2, 1]&#10;Color: (123, 234, 123)\" style=\"width: 25px; height: 25px;background-color: rgb(123, 234, 123);\" data-grid_name=\"my_grid\" data-coordinates=\"2,1\" onclick=\"click_block(this)\"></td><td title=\"Index: [2, 2]&#10;Color: (123, 234, 123)\" style=\"width: 25px; height: 25px;background-color: rgb(123, 234, 123);\" data-grid_name=\"my_grid\" data-coordinates=\"2,2\" onclick=\"click_block(this)\"></td><td title=\"Index: [2, 3]&#10;Color: (123, 234, 123)\" style=\"width: 25px; height: 25px;background-color: rgb(123, 234, 123);\" data-grid_name=\"my_grid\" data-coordinates=\"2,3\" onclick=\"click_block(this)\"></td><td title=\"Index: [2, 4]&#10;Color: (123, 234, 123)\" style=\"width: 25px; height: 25px;background-color: rgb(123, 234, 123);\" data-grid_name=\"my_grid\" data-coordinates=\"2,4\" onclick=\"click_block(this)\"></td><td title=\"Index: [2, 5]&#10;Color: (123, 234, 123)\" style=\"width: 25px; height: 25px;background-color: rgb(123, 234, 123);\" data-grid_name=\"my_grid\" data-coordinates=\"2,5\" onclick=\"click_block(this)\"></td><td title=\"Index: [2, 6]&#10;Color: (123, 234, 123)\" style=\"width: 25px; height: 25px;background-color: rgb(123, 234, 123);\" data-grid_name=\"my_grid\" data-coordinates=\"2,6\" onclick=\"click_block(this)\"></td><td title=\"Index: [2, 7]&#10;Color: (123, 234, 123)\" style=\"width: 25px; height: 25px;background-color: rgb(123, 234, 123);\" data-grid_name=\"my_grid\" data-coordinates=\"2,7\" onclick=\"click_block(this)\"></td><td title=\"Index: [2, 8]&#10;Color: (123, 234, 123)\" style=\"width: 25px; height: 25px;background-color: rgb(123, 234, 123);\" data-grid_name=\"my_grid\" data-coordinates=\"2,8\" onclick=\"click_block(this)\"></td><td title=\"Index: [2, 9]&#10;Color: (123, 234, 123)\" style=\"width: 25px; height: 25px;background-color: rgb(123, 234, 123);\" data-grid_name=\"my_grid\" data-coordinates=\"2,9\" onclick=\"click_block(this)\"></td></tr><tr><td title=\"Index: [3, 0]&#10;Color: (123, 234, 123)\" style=\"width: 25px; height: 25px;background-color: rgb(123, 234, 123);\" data-grid_name=\"my_grid\" data-coordinates=\"3,0\" onclick=\"click_block(this)\"></td><td title=\"Index: [3, 1]&#10;Color: (123, 234, 123)\" style=\"width: 25px; height: 25px;background-color: rgb(123, 234, 123);\" data-grid_name=\"my_grid\" data-coordinates=\"3,1\" onclick=\"click_block(this)\"></td><td title=\"Index: [3, 2]&#10;Color: (123, 234, 123)\" style=\"width: 25px; height: 25px;background-color: rgb(123, 234, 123);\" data-grid_name=\"my_grid\" data-coordinates=\"3,2\" onclick=\"click_block(this)\"></td><td title=\"Index: [3, 3]&#10;Color: (123, 234, 123)\" style=\"width: 25px; height: 25px;background-color: rgb(123, 234, 123);\" data-grid_name=\"my_grid\" data-coordinates=\"3,3\" onclick=\"click_block(this)\"></td><td title=\"Index: [3, 4]&#10;Color: (123, 234, 123)\" style=\"width: 25px; height: 25px;background-color: rgb(123, 234, 123);\" data-grid_name=\"my_grid\" data-coordinates=\"3,4\" onclick=\"click_block(this)\"></td><td title=\"Index: [3, 5]&#10;Color: (123, 234, 123)\" style=\"width: 25px; height: 25px;background-color: rgb(123, 234, 123);\" data-grid_name=\"my_grid\" data-coordinates=\"3,5\" onclick=\"click_block(this)\"></td><td title=\"Index: [3, 6]&#10;Color: (123, 234, 123)\" style=\"width: 25px; height: 25px;background-color: rgb(123, 234, 123);\" data-grid_name=\"my_grid\" data-coordinates=\"3,6\" onclick=\"click_block(this)\"></td><td title=\"Index: [3, 7]&#10;Color: (123, 234, 123)\" style=\"width: 25px; height: 25px;background-color: rgb(123, 234, 123);\" data-grid_name=\"my_grid\" data-coordinates=\"3,7\" onclick=\"click_block(this)\"></td><td title=\"Index: [3, 8]&#10;Color: (123, 234, 123)\" style=\"width: 25px; height: 25px;background-color: rgb(123, 234, 123);\" data-grid_name=\"my_grid\" data-coordinates=\"3,8\" onclick=\"click_block(this)\"></td><td title=\"Index: [3, 9]&#10;Color: (123, 234, 123)\" style=\"width: 25px; height: 25px;background-color: rgb(123, 234, 123);\" data-grid_name=\"my_grid\" data-coordinates=\"3,9\" onclick=\"click_block(this)\"></td></tr><tr><td title=\"Index: [4, 0]&#10;Color: (123, 234, 123)\" style=\"width: 25px; height: 25px;background-color: rgb(123, 234, 123);\" data-grid_name=\"my_grid\" data-coordinates=\"4,0\" onclick=\"click_block(this)\"></td><td title=\"Index: [4, 1]&#10;Color: (123, 234, 123)\" style=\"width: 25px; height: 25px;background-color: rgb(123, 234, 123);\" data-grid_name=\"my_grid\" data-coordinates=\"4,1\" onclick=\"click_block(this)\"></td><td title=\"Index: [4, 2]&#10;Color: (123, 234, 123)\" style=\"width: 25px; height: 25px;background-color: rgb(123, 234, 123);\" data-grid_name=\"my_grid\" data-coordinates=\"4,2\" onclick=\"click_block(this)\"></td><td title=\"Index: [4, 3]&#10;Color: (123, 234, 123)\" style=\"width: 25px; height: 25px;background-color: rgb(123, 234, 123);\" data-grid_name=\"my_grid\" data-coordinates=\"4,3\" onclick=\"click_block(this)\"></td><td title=\"Index: [4, 4]&#10;Color: (123, 234, 123)\" style=\"width: 25px; height: 25px;background-color: rgb(123, 234, 123);\" data-grid_name=\"my_grid\" data-coordinates=\"4,4\" onclick=\"click_block(this)\"></td><td title=\"Index: [4, 5]&#10;Color: (123, 234, 123)\" style=\"width: 25px; height: 25px;background-color: rgb(123, 234, 123);\" data-grid_name=\"my_grid\" data-coordinates=\"4,5\" onclick=\"click_block(this)\"></td><td title=\"Index: [4, 6]&#10;Color: (123, 234, 123)\" style=\"width: 25px; height: 25px;background-color: rgb(123, 234, 123);\" data-grid_name=\"my_grid\" data-coordinates=\"4,6\" onclick=\"click_block(this)\"></td><td title=\"Index: [4, 7]&#10;Color: (123, 234, 123)\" style=\"width: 25px; height: 25px;background-color: rgb(123, 234, 123);\" data-grid_name=\"my_grid\" data-coordinates=\"4,7\" onclick=\"click_block(this)\"></td><td title=\"Index: [4, 8]&#10;Color: (123, 234, 123)\" style=\"width: 25px; height: 25px;background-color: rgb(123, 234, 123);\" data-grid_name=\"my_grid\" data-coordinates=\"4,8\" onclick=\"click_block(this)\"></td><td title=\"Index: [4, 9]&#10;Color: (123, 234, 123)\" style=\"width: 25px; height: 25px;background-color: rgb(123, 234, 123);\" data-grid_name=\"my_grid\" data-coordinates=\"4,9\" onclick=\"click_block(this)\"></td></tr><tr><td title=\"Index: [5, 0]&#10;Color: (123, 234, 123)\" style=\"width: 25px; height: 25px;background-color: rgb(123, 234, 123);\" data-grid_name=\"my_grid\" data-coordinates=\"5,0\" onclick=\"click_block(this)\"></td><td title=\"Index: [5, 1]&#10;Color: (123, 234, 123)\" style=\"width: 25px; height: 25px;background-color: rgb(123, 234, 123);\" data-grid_name=\"my_grid\" data-coordinates=\"5,1\" onclick=\"click_block(this)\"></td><td title=\"Index: [5, 2]&#10;Color: (123, 234, 123)\" style=\"width: 25px; height: 25px;background-color: rgb(123, 234, 123);\" data-grid_name=\"my_grid\" data-coordinates=\"5,2\" onclick=\"click_block(this)\"></td><td title=\"Index: [5, 3]&#10;Color: (123, 234, 123)\" style=\"width: 25px; height: 25px;background-color: rgb(123, 234, 123);\" data-grid_name=\"my_grid\" data-coordinates=\"5,3\" onclick=\"click_block(this)\"></td><td title=\"Index: [5, 4]&#10;Color: (123, 234, 123)\" style=\"width: 25px; height: 25px;background-color: rgb(123, 234, 123);\" data-grid_name=\"my_grid\" data-coordinates=\"5,4\" onclick=\"click_block(this)\"></td><td title=\"Index: [5, 5]&#10;Color: (123, 234, 123)\" style=\"width: 25px; height: 25px;background-color: rgb(123, 234, 123);\" data-grid_name=\"my_grid\" data-coordinates=\"5,5\" onclick=\"click_block(this)\"></td><td title=\"Index: [5, 6]&#10;Color: (123, 234, 123)\" style=\"width: 25px; height: 25px;background-color: rgb(123, 234, 123);\" data-grid_name=\"my_grid\" data-coordinates=\"5,6\" onclick=\"click_block(this)\"></td><td title=\"Index: [5, 7]&#10;Color: (123, 234, 123)\" style=\"width: 25px; height: 25px;background-color: rgb(123, 234, 123);\" data-grid_name=\"my_grid\" data-coordinates=\"5,7\" onclick=\"click_block(this)\"></td><td title=\"Index: [5, 8]&#10;Color: (123, 234, 123)\" style=\"width: 25px; height: 25px;background-color: rgb(123, 234, 123);\" data-grid_name=\"my_grid\" data-coordinates=\"5,8\" onclick=\"click_block(this)\"></td><td title=\"Index: [5, 9]&#10;Color: (123, 234, 123)\" style=\"width: 25px; height: 25px;background-color: rgb(123, 234, 123);\" data-grid_name=\"my_grid\" data-coordinates=\"5,9\" onclick=\"click_block(this)\"></td></tr><tr><td title=\"Index: [6, 0]&#10;Color: (123, 234, 123)\" style=\"width: 25px; height: 25px;background-color: rgb(123, 234, 123);\" data-grid_name=\"my_grid\" data-coordinates=\"6,0\" onclick=\"click_block(this)\"></td><td title=\"Index: [6, 1]&#10;Color: (123, 234, 123)\" style=\"width: 25px; height: 25px;background-color: rgb(123, 234, 123);\" data-grid_name=\"my_grid\" data-coordinates=\"6,1\" onclick=\"click_block(this)\"></td><td title=\"Index: [6, 2]&#10;Color: (123, 234, 123)\" style=\"width: 25px; height: 25px;background-color: rgb(123, 234, 123);\" data-grid_name=\"my_grid\" data-coordinates=\"6,2\" onclick=\"click_block(this)\"></td><td title=\"Index: [6, 3]&#10;Color: (123, 234, 123)\" style=\"width: 25px; height: 25px;background-color: rgb(123, 234, 123);\" data-grid_name=\"my_grid\" data-coordinates=\"6,3\" onclick=\"click_block(this)\"></td><td title=\"Index: [6, 4]&#10;Color: (123, 234, 123)\" style=\"width: 25px; height: 25px;background-color: rgb(123, 234, 123);\" data-grid_name=\"my_grid\" data-coordinates=\"6,4\" onclick=\"click_block(this)\"></td><td title=\"Index: [6, 5]&#10;Color: (123, 234, 123)\" style=\"width: 25px; height: 25px;background-color: rgb(123, 234, 123);\" data-grid_name=\"my_grid\" data-coordinates=\"6,5\" onclick=\"click_block(this)\"></td><td title=\"Index: [6, 6]&#10;Color: (123, 234, 123)\" style=\"width: 25px; height: 25px;background-color: rgb(123, 234, 123);\" data-grid_name=\"my_grid\" data-coordinates=\"6,6\" onclick=\"click_block(this)\"></td><td title=\"Index: [6, 7]&#10;Color: (123, 234, 123)\" style=\"width: 25px; height: 25px;background-color: rgb(123, 234, 123);\" data-grid_name=\"my_grid\" data-coordinates=\"6,7\" onclick=\"click_block(this)\"></td><td title=\"Index: [6, 8]&#10;Color: (123, 234, 123)\" style=\"width: 25px; height: 25px;background-color: rgb(123, 234, 123);\" data-grid_name=\"my_grid\" data-coordinates=\"6,8\" onclick=\"click_block(this)\"></td><td title=\"Index: [6, 9]&#10;Color: (123, 234, 123)\" style=\"width: 25px; height: 25px;background-color: rgb(123, 234, 123);\" data-grid_name=\"my_grid\" data-coordinates=\"6,9\" onclick=\"click_block(this)\"></td></tr><tr><td title=\"Index: [7, 0]&#10;Color: (123, 234, 123)\" style=\"width: 25px; height: 25px;background-color: rgb(123, 234, 123);\" data-grid_name=\"my_grid\" data-coordinates=\"7,0\" onclick=\"click_block(this)\"></td><td title=\"Index: [7, 1]&#10;Color: (123, 234, 123)\" style=\"width: 25px; height: 25px;background-color: rgb(123, 234, 123);\" data-grid_name=\"my_grid\" data-coordinates=\"7,1\" onclick=\"click_block(this)\"></td><td title=\"Index: [7, 2]&#10;Color: (123, 234, 123)\" style=\"width: 25px; height: 25px;background-color: rgb(123, 234, 123);\" data-grid_name=\"my_grid\" data-coordinates=\"7,2\" onclick=\"click_block(this)\"></td><td title=\"Index: [7, 3]&#10;Color: (123, 234, 123)\" style=\"width: 25px; height: 25px;background-color: rgb(123, 234, 123);\" data-grid_name=\"my_grid\" data-coordinates=\"7,3\" onclick=\"click_block(this)\"></td><td title=\"Index: [7, 4]&#10;Color: (123, 234, 123)\" style=\"width: 25px; height: 25px;background-color: rgb(123, 234, 123);\" data-grid_name=\"my_grid\" data-coordinates=\"7,4\" onclick=\"click_block(this)\"></td><td title=\"Index: [7, 5]&#10;Color: (123, 234, 123)\" style=\"width: 25px; height: 25px;background-color: rgb(123, 234, 123);\" data-grid_name=\"my_grid\" data-coordinates=\"7,5\" onclick=\"click_block(this)\"></td><td title=\"Index: [7, 6]&#10;Color: (123, 234, 123)\" style=\"width: 25px; height: 25px;background-color: rgb(123, 234, 123);\" data-grid_name=\"my_grid\" data-coordinates=\"7,6\" onclick=\"click_block(this)\"></td><td title=\"Index: [7, 7]&#10;Color: (123, 234, 123)\" style=\"width: 25px; height: 25px;background-color: rgb(123, 234, 123);\" data-grid_name=\"my_grid\" data-coordinates=\"7,7\" onclick=\"click_block(this)\"></td><td title=\"Index: [7, 8]&#10;Color: (123, 234, 123)\" style=\"width: 25px; height: 25px;background-color: rgb(123, 234, 123);\" data-grid_name=\"my_grid\" data-coordinates=\"7,8\" onclick=\"click_block(this)\"></td><td title=\"Index: [7, 9]&#10;Color: (123, 234, 123)\" style=\"width: 25px; height: 25px;background-color: rgb(123, 234, 123);\" data-grid_name=\"my_grid\" data-coordinates=\"7,9\" onclick=\"click_block(this)\"></td></tr><tr><td title=\"Index: [8, 0]&#10;Color: (123, 234, 123)\" style=\"width: 25px; height: 25px;background-color: rgb(123, 234, 123);\" data-grid_name=\"my_grid\" data-coordinates=\"8,0\" onclick=\"click_block(this)\"></td><td title=\"Index: [8, 1]&#10;Color: (123, 234, 123)\" style=\"width: 25px; height: 25px;background-color: rgb(123, 234, 123);\" data-grid_name=\"my_grid\" data-coordinates=\"8,1\" onclick=\"click_block(this)\"></td><td title=\"Index: [8, 2]&#10;Color: (123, 234, 123)\" style=\"width: 25px; height: 25px;background-color: rgb(123, 234, 123);\" data-grid_name=\"my_grid\" data-coordinates=\"8,2\" onclick=\"click_block(this)\"></td><td title=\"Index: [8, 3]&#10;Color: (123, 234, 123)\" style=\"width: 25px; height: 25px;background-color: rgb(123, 234, 123);\" data-grid_name=\"my_grid\" data-coordinates=\"8,3\" onclick=\"click_block(this)\"></td><td title=\"Index: [8, 4]&#10;Color: (123, 234, 123)\" style=\"width: 25px; height: 25px;background-color: rgb(123, 234, 123);\" data-grid_name=\"my_grid\" data-coordinates=\"8,4\" onclick=\"click_block(this)\"></td><td title=\"Index: [8, 5]&#10;Color: (123, 234, 123)\" style=\"width: 25px; height: 25px;background-color: rgb(123, 234, 123);\" data-grid_name=\"my_grid\" data-coordinates=\"8,5\" onclick=\"click_block(this)\"></td><td title=\"Index: [8, 6]&#10;Color: (123, 234, 123)\" style=\"width: 25px; height: 25px;background-color: rgb(123, 234, 123);\" data-grid_name=\"my_grid\" data-coordinates=\"8,6\" onclick=\"click_block(this)\"></td><td title=\"Index: [8, 7]&#10;Color: (123, 234, 123)\" style=\"width: 25px; height: 25px;background-color: rgb(123, 234, 123);\" data-grid_name=\"my_grid\" data-coordinates=\"8,7\" onclick=\"click_block(this)\"></td><td title=\"Index: [8, 8]&#10;Color: (123, 234, 123)\" style=\"width: 25px; height: 25px;background-color: rgb(123, 234, 123);\" data-grid_name=\"my_grid\" data-coordinates=\"8,8\" onclick=\"click_block(this)\"></td><td title=\"Index: [8, 9]&#10;Color: (123, 234, 123)\" style=\"width: 25px; height: 25px;background-color: rgb(123, 234, 123);\" data-grid_name=\"my_grid\" data-coordinates=\"8,9\" onclick=\"click_block(this)\"></td></tr><tr><td title=\"Index: [9, 0]&#10;Color: (123, 234, 123)\" style=\"width: 25px; height: 25px;background-color: rgb(123, 234, 123);\" data-grid_name=\"my_grid\" data-coordinates=\"9,0\" onclick=\"click_block(this)\"></td><td title=\"Index: [9, 1]&#10;Color: (123, 234, 123)\" style=\"width: 25px; height: 25px;background-color: rgb(123, 234, 123);\" data-grid_name=\"my_grid\" data-coordinates=\"9,1\" onclick=\"click_block(this)\"></td><td title=\"Index: [9, 2]&#10;Color: (123, 234, 123)\" style=\"width: 25px; height: 25px;background-color: rgb(123, 234, 123);\" data-grid_name=\"my_grid\" data-coordinates=\"9,2\" onclick=\"click_block(this)\"></td><td title=\"Index: [9, 3]&#10;Color: (123, 234, 123)\" style=\"width: 25px; height: 25px;background-color: rgb(123, 234, 123);\" data-grid_name=\"my_grid\" data-coordinates=\"9,3\" onclick=\"click_block(this)\"></td><td title=\"Index: [9, 4]&#10;Color: (123, 234, 123)\" style=\"width: 25px; height: 25px;background-color: rgb(123, 234, 123);\" data-grid_name=\"my_grid\" data-coordinates=\"9,4\" onclick=\"click_block(this)\"></td><td title=\"Index: [9, 5]&#10;Color: (123, 234, 123)\" style=\"width: 25px; height: 25px;background-color: rgb(123, 234, 123);\" data-grid_name=\"my_grid\" data-coordinates=\"9,5\" onclick=\"click_block(this)\"></td><td title=\"Index: [9, 6]&#10;Color: (123, 234, 123)\" style=\"width: 25px; height: 25px;background-color: rgb(123, 234, 123);\" data-grid_name=\"my_grid\" data-coordinates=\"9,6\" onclick=\"click_block(this)\"></td><td title=\"Index: [9, 7]&#10;Color: (123, 234, 123)\" style=\"width: 25px; height: 25px;background-color: rgb(123, 234, 123);\" data-grid_name=\"my_grid\" data-coordinates=\"9,7\" onclick=\"click_block(this)\"></td><td title=\"Index: [9, 8]&#10;Color: (123, 234, 123)\" style=\"width: 25px; height: 25px;background-color: rgb(123, 234, 123);\" data-grid_name=\"my_grid\" data-coordinates=\"9,8\" onclick=\"click_block(this)\"></td><td title=\"Index: [9, 9]&#10;Color: (123, 234, 123)\" style=\"width: 25px; height: 25px;background-color: rgb(123, 234, 123);\" data-grid_name=\"my_grid\" data-coordinates=\"9,9\" onclick=\"click_block(this)\"></td></tr></tbody></table>\n",
       "<script type=\"text/Javascript\">\n",
       "    var latest_output_area =\"NONE\"; // Jquery object for the DOM element of output area which was used most recently\n",
       "    function handle_output(out, block){\n",
       "        var output = out.content.data[\"text/html\"];\n",
       "        latest_output_area.html(output);\n",
       "    }\n",
       "    function click_block(block){\n",
       "        latest_output_area = $(block).parents('.output_subarea');\n",
       "        var grid_object_name = block.dataset.grid_name;\n",
       "        var coordinates = block.dataset.coordinates;\n",
       "        var command = grid_object_name + \".handle_interaction_block((\" + coordinates + \"))\";\n",
       "        console.log(\"Executing Command: \" + command);\n",
       "        var kernel = IPython.notebook.kernel;\n",
       "        var callbacks = { 'iopub' : {'output' : handle_output}};\n",
       "        kernel.execute(command,callbacks);\n",
       "    }\n",
       "\n",
       "</script>\n"
      ],
      "text/plain": [
       "<IPython.core.display.HTML object>"
      ]
     },
     "metadata": {},
     "output_type": "display_data"
    }
   ],
   "source": [
    "my_grid = GridWorld(width=10,height=10,fill=(123, 234, 123))\n",
    "my_grid.show()"
   ]
  },
  {
   "cell_type": "markdown",
   "metadata": {},
   "source": [
    "## Demo 1\n",
    "Now this output looks no different than ipythonblocks. Lets demo interactiveblocks by making a clone of the simple game called [Lights Out](https://en.wikipedia.org/wiki/Lights_Out_%28game%29). To follow up you can read about the rules [here](https://en.wikipedia.org/wiki/Lights_Out_%28game%29#Gameplay).\n",
    "\n",
    "We start with inherting from our GridWorld class and override one method named handle_interaction_block to handle game logic. Rest of the methods are auxillary and related to this specific example."
   ]
  },
  {
   "cell_type": "code",
   "execution_count": 3,
   "metadata": {
    "collapsed": false
   },
   "outputs": [],
   "source": [
    "class LightsOut(GridWorld):\n",
    "    \n",
    "    def toggle_block(self,block):\n",
    "        if block.red == block.green == block.blue == 0:\n",
    "            block.set_colors(243,118,38)\n",
    "        else:\n",
    "            block.set_colors(0,0,0)\n",
    "\n",
    "    def get_neighbours(self, coordinates,clicked_block):\n",
    "        actions = [(0,1),(1,0),(0,-1),(-1,0)]\n",
    "        neighbours = []\n",
    "        for action in actions:\n",
    "            new_coordinates = (coordinates[0]+action[0],coordinates[1]+action[1])\n",
    "            if 0 <= new_coordinates[0] < self.grid.width and 0 <= new_coordinates[1] < self.grid.height:\n",
    "                neighbours.append(self.grid[new_coordinates[0],new_coordinates[1]])\n",
    "        return neighbours\n",
    "            \n",
    "            \n",
    "    def handle_interaction_block(self, coordinates):\n",
    "        clicked_block = self.grid[coordinates[0],coordinates[1]]\n",
    "        neighbours = self.get_neighbours(coordinates,clicked_block)\n",
    "        for neighbour in neighbours:\n",
    "            self.toggle_block(neighbour)\n",
    "        self.toggle_block(clicked_block)\n",
    "        return self.show()\n",
    "\n"
   ]
  },
  {
   "cell_type": "markdown",
   "metadata": {},
   "source": [
    "Now let us initialize the game with some values of locations where the lights will be on."
   ]
  },
  {
   "cell_type": "code",
   "execution_count": 6,
   "metadata": {
    "collapsed": true
   },
   "outputs": [],
   "source": [
    "game = LightsOut(width=5,height=5,block_size=60)\n",
    "# Now init world to a simple game.\n",
    "game_initial_on_values = [(0,0),(0,1),(0,3),(0,4),(1,1),(1,2),(1,3),(2,1),(2,2),(2,3),(3,2)]\n",
    "for value in game_initial_on_values:\n",
    "    game.grid[value[0],value[1]].set_colors(243,118,38)"
   ]
  },
  {
   "cell_type": "markdown",
   "metadata": {},
   "source": [
    "Finally lets play!"
   ]
  },
  {
   "cell_type": "code",
   "execution_count": 7,
   "metadata": {
    "collapsed": false
   },
   "outputs": [
    {
     "data": {
      "text/html": [
       "<style type=\"text/css\">table.blockgrid {border: none;} .blockgrid tr {border: none;} .blockgrid td {padding: 0px;} #blocksb8a5da1b-429c-4f85-a8e0-249b9c22a2cb td {border: 1px solid white;}</style><table id=\"blocksb8a5da1b-429c-4f85-a8e0-249b9c22a2cb\" class=\"blockgrid\"><tbody><tr><td title=\"Index: [0, 0]&#10;Color: (243, 118, 38)\" style=\"width: 60px; height: 60px;background-color: rgb(243, 118, 38);\" data-grid_name=\"game\" data-coordinates=\"0,0\" onclick=\"click_block(this)\"></td><td title=\"Index: [0, 1]&#10;Color: (243, 118, 38)\" style=\"width: 60px; height: 60px;background-color: rgb(243, 118, 38);\" data-grid_name=\"game\" data-coordinates=\"0,1\" onclick=\"click_block(this)\"></td><td title=\"Index: [0, 2]&#10;Color: (0, 0, 0)\" style=\"width: 60px; height: 60px;background-color: rgb(0, 0, 0);\" data-grid_name=\"game\" data-coordinates=\"0,2\" onclick=\"click_block(this)\"></td><td title=\"Index: [0, 3]&#10;Color: (243, 118, 38)\" style=\"width: 60px; height: 60px;background-color: rgb(243, 118, 38);\" data-grid_name=\"game\" data-coordinates=\"0,3\" onclick=\"click_block(this)\"></td><td title=\"Index: [0, 4]&#10;Color: (243, 118, 38)\" style=\"width: 60px; height: 60px;background-color: rgb(243, 118, 38);\" data-grid_name=\"game\" data-coordinates=\"0,4\" onclick=\"click_block(this)\"></td></tr><tr><td title=\"Index: [1, 0]&#10;Color: (0, 0, 0)\" style=\"width: 60px; height: 60px;background-color: rgb(0, 0, 0);\" data-grid_name=\"game\" data-coordinates=\"1,0\" onclick=\"click_block(this)\"></td><td title=\"Index: [1, 1]&#10;Color: (243, 118, 38)\" style=\"width: 60px; height: 60px;background-color: rgb(243, 118, 38);\" data-grid_name=\"game\" data-coordinates=\"1,1\" onclick=\"click_block(this)\"></td><td title=\"Index: [1, 2]&#10;Color: (243, 118, 38)\" style=\"width: 60px; height: 60px;background-color: rgb(243, 118, 38);\" data-grid_name=\"game\" data-coordinates=\"1,2\" onclick=\"click_block(this)\"></td><td title=\"Index: [1, 3]&#10;Color: (243, 118, 38)\" style=\"width: 60px; height: 60px;background-color: rgb(243, 118, 38);\" data-grid_name=\"game\" data-coordinates=\"1,3\" onclick=\"click_block(this)\"></td><td title=\"Index: [1, 4]&#10;Color: (0, 0, 0)\" style=\"width: 60px; height: 60px;background-color: rgb(0, 0, 0);\" data-grid_name=\"game\" data-coordinates=\"1,4\" onclick=\"click_block(this)\"></td></tr><tr><td title=\"Index: [2, 0]&#10;Color: (0, 0, 0)\" style=\"width: 60px; height: 60px;background-color: rgb(0, 0, 0);\" data-grid_name=\"game\" data-coordinates=\"2,0\" onclick=\"click_block(this)\"></td><td title=\"Index: [2, 1]&#10;Color: (243, 118, 38)\" style=\"width: 60px; height: 60px;background-color: rgb(243, 118, 38);\" data-grid_name=\"game\" data-coordinates=\"2,1\" onclick=\"click_block(this)\"></td><td title=\"Index: [2, 2]&#10;Color: (243, 118, 38)\" style=\"width: 60px; height: 60px;background-color: rgb(243, 118, 38);\" data-grid_name=\"game\" data-coordinates=\"2,2\" onclick=\"click_block(this)\"></td><td title=\"Index: [2, 3]&#10;Color: (243, 118, 38)\" style=\"width: 60px; height: 60px;background-color: rgb(243, 118, 38);\" data-grid_name=\"game\" data-coordinates=\"2,3\" onclick=\"click_block(this)\"></td><td title=\"Index: [2, 4]&#10;Color: (0, 0, 0)\" style=\"width: 60px; height: 60px;background-color: rgb(0, 0, 0);\" data-grid_name=\"game\" data-coordinates=\"2,4\" onclick=\"click_block(this)\"></td></tr><tr><td title=\"Index: [3, 0]&#10;Color: (0, 0, 0)\" style=\"width: 60px; height: 60px;background-color: rgb(0, 0, 0);\" data-grid_name=\"game\" data-coordinates=\"3,0\" onclick=\"click_block(this)\"></td><td title=\"Index: [3, 1]&#10;Color: (0, 0, 0)\" style=\"width: 60px; height: 60px;background-color: rgb(0, 0, 0);\" data-grid_name=\"game\" data-coordinates=\"3,1\" onclick=\"click_block(this)\"></td><td title=\"Index: [3, 2]&#10;Color: (243, 118, 38)\" style=\"width: 60px; height: 60px;background-color: rgb(243, 118, 38);\" data-grid_name=\"game\" data-coordinates=\"3,2\" onclick=\"click_block(this)\"></td><td title=\"Index: [3, 3]&#10;Color: (0, 0, 0)\" style=\"width: 60px; height: 60px;background-color: rgb(0, 0, 0);\" data-grid_name=\"game\" data-coordinates=\"3,3\" onclick=\"click_block(this)\"></td><td title=\"Index: [3, 4]&#10;Color: (0, 0, 0)\" style=\"width: 60px; height: 60px;background-color: rgb(0, 0, 0);\" data-grid_name=\"game\" data-coordinates=\"3,4\" onclick=\"click_block(this)\"></td></tr><tr><td title=\"Index: [4, 0]&#10;Color: (0, 0, 0)\" style=\"width: 60px; height: 60px;background-color: rgb(0, 0, 0);\" data-grid_name=\"game\" data-coordinates=\"4,0\" onclick=\"click_block(this)\"></td><td title=\"Index: [4, 1]&#10;Color: (0, 0, 0)\" style=\"width: 60px; height: 60px;background-color: rgb(0, 0, 0);\" data-grid_name=\"game\" data-coordinates=\"4,1\" onclick=\"click_block(this)\"></td><td title=\"Index: [4, 2]&#10;Color: (0, 0, 0)\" style=\"width: 60px; height: 60px;background-color: rgb(0, 0, 0);\" data-grid_name=\"game\" data-coordinates=\"4,2\" onclick=\"click_block(this)\"></td><td title=\"Index: [4, 3]&#10;Color: (0, 0, 0)\" style=\"width: 60px; height: 60px;background-color: rgb(0, 0, 0);\" data-grid_name=\"game\" data-coordinates=\"4,3\" onclick=\"click_block(this)\"></td><td title=\"Index: [4, 4]&#10;Color: (0, 0, 0)\" style=\"width: 60px; height: 60px;background-color: rgb(0, 0, 0);\" data-grid_name=\"game\" data-coordinates=\"4,4\" onclick=\"click_block(this)\"></td></tr></tbody></table>\n",
       "<script type=\"text/Javascript\">\n",
       "    var latest_output_area =\"NONE\"; // Jquery object for the DOM element of output area which was used most recently\n",
       "    function handle_output(out, block){\n",
       "        var output = out.content.data[\"text/html\"];\n",
       "        latest_output_area.html(output);\n",
       "    }\n",
       "    function click_block(block){\n",
       "        latest_output_area = $(block).parents('.output_subarea');\n",
       "        var grid_object_name = block.dataset.grid_name;\n",
       "        var coordinates = block.dataset.coordinates;\n",
       "        var command = grid_object_name + \".handle_interaction_block((\" + coordinates + \"))\";\n",
       "        console.log(\"Executing Command: \" + command);\n",
       "        var kernel = IPython.notebook.kernel;\n",
       "        var callbacks = { 'iopub' : {'output' : handle_output}};\n",
       "        kernel.execute(command,callbacks);\n",
       "    }\n",
       "\n",
       "</script>\n"
      ],
      "text/plain": [
       "<IPython.core.display.HTML object>"
      ]
     },
     "metadata": {},
     "output_type": "display_data"
    }
   ],
   "source": [
    "game.show()"
   ]
  },
  {
   "cell_type": "markdown",
   "metadata": {},
   "source": [
    "# Future Implementations. Coming Soon.\n",
    "The text below does not have working code as of now. I am trying to get this working as soon as possible. Also please note that there are a couple of nasty hacks in the code which need to be cleaned up."
   ]
  },
  {
   "cell_type": "markdown",
   "metadata": {},
   "source": [
    "## Demo 2\n",
    "I guess that was fun! Now lets jump on the kind of problems we actually want to solve. Problems like representing an agent in a grid world with actions. Lets demo the power of interactiveblocks by replicating a modified version of the ReflexVacuumAgent described in the AIMA book. We make an agent called RelexEnviornmentAgent which turns off the lights in the room it visits. Lets start with implementing our agent. "
   ]
  },
  {
   "cell_type": "code",
   "execution_count": 5,
   "metadata": {
    "collapsed": false
   },
   "outputs": [
    {
     "name": "stdout",
     "output_type": "stream",
     "text": [
      "Code for Agent\n"
     ]
    }
   ],
   "source": [
    "print(\"Code for Agent\")"
   ]
  },
  {
   "cell_type": "markdown",
   "metadata": {},
   "source": [
    "Now lets implement the enviornment."
   ]
  },
  {
   "cell_type": "code",
   "execution_count": 6,
   "metadata": {
    "collapsed": false
   },
   "outputs": [
    {
     "name": "stdout",
     "output_type": "stream",
     "text": [
      "Implemented Enviornment\n"
     ]
    }
   ],
   "source": [
    "print(\"Implemented Enviornment\")"
   ]
  },
  {
   "cell_type": "markdown",
   "metadata": {},
   "source": [
    "## Demo 3\n",
    "As promised before it is possible to model other grid based stuff in this manner. Lets do that with a TicTacToe GUI."
   ]
  },
  {
   "cell_type": "code",
   "execution_count": 7,
   "metadata": {
    "collapsed": false
   },
   "outputs": [
    {
     "name": "stdout",
     "output_type": "stream",
     "text": [
      "Simple Tic Tac Toe GUI\n"
     ]
    }
   ],
   "source": [
    "print(\"Simple Tic Tac Toe GUI\")"
   ]
  },
  {
   "cell_type": "markdown",
   "metadata": {},
   "source": [
    "## Demo 4\n",
    "Finally as a demo lets explore the feature of interacting with agents using the GUI. We will make a dumb agent which follows our instructions."
   ]
  },
  {
   "cell_type": "code",
   "execution_count": 8,
   "metadata": {
    "collapsed": false
   },
   "outputs": [
    {
     "name": "stdout",
     "output_type": "stream",
     "text": [
      "Dumb agent demo\n"
     ]
    }
   ],
   "source": [
    "print(\"Dumb agent demo\")"
   ]
  },
  {
   "cell_type": "markdown",
   "metadata": {},
   "source": [
    "## Possible Improvements\n",
    "\n",
    "This was only a simple demo. \n",
    "\n",
    "1. It is possible to add better representations of agents and how these representations can change on interacting with the agent eg. changing from square to triangle on clicking etc. \n",
    "2. Right now only mouse based interactions our supported the possibilty of using the keyboard can be explored\n",
    "3. Representing more than one thing on the same grid is still an issue.\n",
    "4. Representing heading directions.\n",
    "\n",
    "In terms of a demo it should not be too difficult to make a demo of the type https://qiao.github.io/PathFinding.js/visual/."
   ]
  },
  {
   "cell_type": "code",
   "execution_count": null,
   "metadata": {
    "collapsed": true
   },
   "outputs": [],
   "source": []
  }
 ],
 "metadata": {
  "kernelspec": {
   "display_name": "Python 3",
   "language": "python",
   "name": "python3"
  },
  "language_info": {
   "codemirror_mode": {
    "name": "ipython",
    "version": 3
   },
   "file_extension": ".py",
   "mimetype": "text/x-python",
   "name": "python",
   "nbconvert_exporter": "python",
   "pygments_lexer": "ipython3",
   "version": "3.4.3"
  }
 },
 "nbformat": 4,
 "nbformat_minor": 0
}
